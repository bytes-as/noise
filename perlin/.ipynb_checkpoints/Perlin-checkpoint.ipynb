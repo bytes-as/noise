{
 "cells": [
  {
   "cell_type": "code",
   "execution_count": 6,
   "metadata": {},
   "outputs": [],
   "source": [
    "import numpy\n",
    "import math\n",
    "from mpl_toolkits import mplot3d\n",
    "import matplotlib.pyplot as plt"
   ]
  },
  {
   "cell_type": "code",
   "execution_count": 7,
   "metadata": {},
   "outputs": [],
   "source": [
    "grad = [[1,1,0],[-1,1,0],[1,-1,0],[-1,-1,0],\n",
    "[1,0,1],[-1,0,1],[1,0,-1],[-1,0,-1],\n",
    "[0,1,1],[0,-1,1],[0,1,-1],[0,-1,-1]]"
   ]
  },
  {
   "cell_type": "code",
   "execution_count": 14,
   "metadata": {},
   "outputs": [],
   "source": [
    "permutation = [151,160,137,91,90,15,\n",
    "   131,13,201,95,96,53,194,233,7,225,140,36,103,30,69,142,8,99,37,240,21,10,23,\n",
    "   190, 6,148,247,120,234,75,0,26,197,62,94,252,219,203,117,35,11,32,57,177,33,\n",
    "   88,237,149,56,87,174,20,125,136,171,168, 68,175,74,165,71,134,139,48,27,166,\n",
    "   77,146,158,231,83,111,229,122,60,211,133,230,220,105,92,41,55,46,245,40,244,\n",
    "   102,143,54, 65,25,63,161, 1,216,80,73,209,76,132,187,208, 89,18,169,200,196,\n",
    "   135,130,116,188,159,86,164,100,109,198,173,186, 3,64,52,217,226,250,124,123,\n",
    "   5,202,38,147,118,126,255,82,85,212,207,206,59,227,47,16,58,17,182,189,28,42,\n",
    "   223,183,170,213,119,248,152, 2,44,154,163, 70,221,153,101,155,167, 43,172,9,\n",
    "   129,22,39,253, 19,98,108,110,79,113,224,232,178,185, 112,104,218,246,97,228,\n",
    "   251,34,242,193,238,210,144,12,191,179,162,241, 81,51,145,235,249,14,239,107,\n",
    "   49,192,214, 31,181,199,106,157,184, 84,204,176,115,121,50,45,127, 4,150,254,\n",
    "   138,236,205,93,222,114,67,29,24,72,243,141,128,195,78,66,215,61,156,180]\n",
    "# print(len(permutation))\n",
    "p = [None] * 512\n",
    "for i in range(256):\n",
    "    p[256+i] = p[i] = permutation[i]\n",
    "repeatat = 255"
   ]
  },
  {
   "cell_type": "code",
   "execution_count": 15,
   "metadata": {},
   "outputs": [],
   "source": [
    "def fade(t):\n",
    "    return t * t * t * (t * (t * 6 - 15) + 10)\n",
    "\n",
    "def lerp(t, a, b):\n",
    "    return a + t*( b-a )"
   ]
  },
  {
   "cell_type": "code",
   "execution_count": 16,
   "metadata": {},
   "outputs": [],
   "source": [
    "def grad3D(hash, X):\n",
    "    h = hash & 15\n",
    "    u = X.x if h < 8 else X.y\n",
    "    v = X.y if h < 4 else (X.x if h in (12, 14) else X.z)\n",
    "    return (u if (h&1) == 0 else -u) + (v if (h&2) == 0 else -v)\n",
    "\n",
    "def grad2D(hash, X):\n",
    "    h = hash & 15\n",
    "    u = X.x if h < 4 or h in (12, 15) else -X.x\n",
    "    v = X.y if h < 8 else -X.y\n",
    "    return u+v"
   ]
  },
  {
   "cell_type": "code",
   "execution_count": 17,
   "metadata": {},
   "outputs": [],
   "source": [
    "class Point:\n",
    "    def __init__(self, x, y, z=None, repeat=255):\n",
    "        self.x = x%repeat\n",
    "        self.y = y%repeat\n",
    "        if z is not None:\n",
    "            self.z = z%repeat\n",
    "        else:\n",
    "            self.z = None\n",
    "        self.vector = None\n",
    "        self.unit_vector = None\n",
    "        self.floor = None\n",
    "        self.faded = None\n",
    "\n",
    "    def get_unit_vector(self):\n",
    "        if self.z is None:\n",
    "            self.unit_vector = numpy.array([self.x%1, self.y%1])\n",
    "        else:\n",
    "            self.unit_vector = numpy.array([self.x%1, self.y%1, self.z%1]);\n",
    "        return self.unit_vector\n",
    "\n",
    "    def get_vector(self):\n",
    "        if self.z is not None:\n",
    "            self.vector = numpy.array([self.x, self.y, self.z])\n",
    "        else :\n",
    "            self.vector = numpy.array([self.x, self.y])\n",
    "        return self.vector\n",
    "\n",
    "    def put_vector(self):\n",
    "        if self.vector is None:\n",
    "            print(\"Vector hasn't been assigned yet...\\nFirst assign the vector using <Point Object>.get_vector()\")\n",
    "            return None;\n",
    "        if self.z is None :\n",
    "            print(\"[ %d , %d ]\" % (self.vector[0], self.vector[1]))\n",
    "        else :\n",
    "            print(\"[ %d , %d , %d]\" % (self.vector[0], self.vector[1], self.vector[2]))\n",
    "            return None\n",
    "    \n",
    "    def get_floor_vector(self):\n",
    "        if self.z is not None:\n",
    "            self.floor = numpy.array([math.floor(self.x),\n",
    "             math.floor(self.y), math.floor(self.z)]);\n",
    "        else :\n",
    "            self.floor = numpy.array([math.floor(self.x),\n",
    "             math.floor(self.y)])\n",
    "        return self.floor\n",
    "\n",
    "    def put_floor_vector(self):\n",
    "        if self.floor is None :\n",
    "            print(\"floor vector is None...\\nFirst assign floor vector using <Point Object>.get_floor_vector()\")\n",
    "            return None\n",
    "        if self.z is None :\n",
    "            print(\"[ %d , %d ]\" % (self.floor[0], self.floor[1]))\n",
    "        else :\n",
    "            print(\"[ %d , %d , %d]\" % (self.floor[0], self.floor[1], self.floor[2]))\n",
    "        return None\n",
    "\n",
    "    def get_faded_vector(self):\n",
    "        if self.unit_vector is None:\n",
    "            pritn(\"unit vector not assigned, found None...\")\n",
    "            return None\n",
    "        if self.z is None :\n",
    "            self.faded = numpy.array([fade(self.unit_vector[0]), fade(self.unit_vector[1])] )\n",
    "        else :\n",
    "            self.faded = numpy.array( [fade(self.unit_vector[0]), fade(self.unit_vector[1]), fade(self.unit_vector[2])] )  \n",
    "        return self.faded\n",
    "    \n",
    "    def put_faded_vector(self):\n",
    "        if self.faded is None:\n",
    "            print(\"faded vector is not assigned...\")\n",
    "            return None\n",
    "        if self.z is None :\n",
    "            print(\"[ %f, %f ]\" %(self.faded[0], self.faded[1]))\n",
    "        else :\n",
    "            print(\"[ %1.6f, %1.6f, %1.6f ]\" %(self.faded[0], self.faded[1], self.faded[2]))\n",
    "        return None"
   ]
  },
  {
   "cell_type": "code",
   "execution_count": 46,
   "metadata": {},
   "outputs": [],
   "source": [
    "def perlin2D(point):\n",
    "    [X, Y] = point.get_vector()\n",
    "    [x, y] = point.get_unit_vector()\n",
    "    [u, v] = point.get_faded_vector()\n",
    "    A = int(p[int(X)] + Y)\n",
    "    AB = int(p[int(A)+1] + Y)\n",
    "    B = int(p[int(X)+1] + Y)\n",
    "    BA = int(p[int(B)+1] + Y)\n",
    "    return lerp(v, lerp(u, grad2D(p[A], Point(x  , y)  ),\n",
    "                           grad2D(p[A], Point(x-1, y)  )), \n",
    "                   lerp(u, grad2D(p[B], Point(x  , y-1)),\n",
    "                           grad2D(p[B], Point(x-1, y-1)))\n",
    "                )\n"
   ]
  },
  {
   "cell_type": "code",
   "execution_count": 47,
   "metadata": {},
   "outputs": [
    {
     "name": "stdout",
     "output_type": "stream",
     "text": [
      "-8.0606406439728\n"
     ]
    }
   ],
   "source": [
    "X = Point(1.1231, 2.12312)\n",
    "X.get_vector()\n",
    "X.get_floor_vector()\n",
    "print(perlin2D(X))"
   ]
  },
  {
   "cell_type": "code",
   "execution_count": 48,
   "metadata": {},
   "outputs": [
    {
     "data": {
      "image/png": "[encoded data removed]",
      "text/plain": [
       "<Figure size 432x288 with 1 Axes>"
      ]
     },
     "metadata": {},
     "output_type": "display_data"
    }
   ],
   "source": [
    "x = numpy.linspace(0, 10, 1000);\n",
    "y = numpy.full(1000, 0);\n",
    "for i in range(1000):\n",
    "    y[i] += perlin2D(Point(x[i], y[i]));\n",
    "\n",
    "plt.plot(x, y);\n",
    "plt.show()"
   ]
  },
  {
   "cell_type": "code",
   "execution_count": null,
   "metadata": {},
   "outputs": [],
   "source": []
  },
  {
   "cell_type": "code",
   "execution_count": null,
   "metadata": {},
   "outputs": [],
   "source": []
  }
 ],
 "metadata": {
  "kernelspec": {
   "display_name": "Python 3",
   "language": "python",
   "name": "python3"
  },
  "language_info": {
   "codemirror_mode": {
    "name": "ipython",
    "version": 3
   },
   "file_extension": ".py",
   "mimetype": "text/x-python",
   "name": "python",
   "nbconvert_exporter": "python",
   "pygments_lexer": "ipython3",
   "version": "3.6.5"
  }
 },
 "nbformat": 4,
 "nbformat_minor": 2
}
