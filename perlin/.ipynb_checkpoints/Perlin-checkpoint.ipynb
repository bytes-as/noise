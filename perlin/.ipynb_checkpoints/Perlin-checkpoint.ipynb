{
 "cells": [
  {
   "cell_type": "code",
   "execution_count": 25,
   "metadata": {},
   "outputs": [],
   "source": [
    "import numpy\n",
    "import math"
   ]
  },
  {
   "cell_type": "code",
   "execution_count": 26,
   "metadata": {},
   "outputs": [],
   "source": [
    "grad = [[1,1,0],[-1,1,0],[1,-1,0],[-1,-1,0],\n",
    "[1,0,1],[-1,0,1],[1,0,-1],[-1,0,-1],\n",
    "[0,1,1],[0,-1,1],[0,1,-1],[0,-1,-1]]"
   ]
  },
  {
   "cell_type": "code",
   "execution_count": 27,
   "metadata": {},
   "outputs": [],
   "source": [
    "class Point:\n",
    "    def __init__(self, x, y, z=None):\n",
    "        self.x = x\n",
    "        self.y = y\n",
    "        self.z = z\n",
    "\n",
    "    def get_vector(self):\n",
    "        if not self.z:\n",
    "            return numpy.array([self.x, self.y, self.z])\n",
    "        else :\n",
    "            return numpy.array([self.x, self.y])\n",
    "    \n",
    "    def get_floor_vector(self):\n",
    "        if not self.z:\n",
    "            return numpy.array([math.floor(self.x),\n",
    "             math.floor(self.y), math.floor(self.z)]);\n",
    "        else :\n",
    "            return numpy.array([math.floor(self.x),\n",
    "             math.floor(self.y)])\n",
    "\n",
    "    def print_fvector(self):\n",
    "        print(\"[ %d , %d\" % cordinate for cordinate in self.get_floor_vector())\n",
    "        print(\"done\")\n",
    "\n",
    "    def get_dsitance_vector(self):\n",
    "        return None\n"
   ]
  },
  {
   "cell_type": "code",
   "execution_count": 28,
   "metadata": {},
   "outputs": [],
   "source": [
    "def perlin(X):\n",
    "    dist_point = Point(X.x%1, X.y%1, X.z%1)\n",
    "    print(dist_point.get_vector())\n",
    "    return dist_point.get_vector()"
   ]
  },
  {
   "cell_type": "code",
   "execution_count": 29,
   "metadata": {},
   "outputs": [
    {
     "data": {
      "text/plain": [
       "<bound method Point.print_fvector of <__main__.Point object at 0x7f63e40a5400>>"
      ]
     },
     "execution_count": 29,
     "metadata": {},
     "output_type": "execute_result"
    }
   ],
   "source": [
    "X = Point(1.1231, 2.12312)\n",
    "X.get_floor_vector\n",
    "X.get_vector\n",
    "X.print_fvector"
   ]
  },
  {
   "cell_type": "code",
   "execution_count": null,
   "metadata": {},
   "outputs": [],
   "source": []
  },
  {
   "cell_type": "code",
   "execution_count": null,
   "metadata": {},
   "outputs": [],
   "source": []
  }
 ],
 "metadata": {
  "kernelspec": {
   "display_name": "Python 3",
   "language": "python",
   "name": "python3"
  },
  "language_info": {
   "codemirror_mode": {
    "name": "ipython",
    "version": 3
   },
   "file_extension": ".py",
   "mimetype": "text/x-python",
   "name": "python",
   "nbconvert_exporter": "python",
   "pygments_lexer": "ipython3",
   "version": "3.6.5"
  }
 },
 "nbformat": 4,
 "nbformat_minor": 2
}
